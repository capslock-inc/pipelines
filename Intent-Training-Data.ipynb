{
 "cells": [
  {
   "cell_type": "code",
   "execution_count": 30,
   "metadata": {},
   "outputs": [],
   "source": [
    "import pandas as pd\n",
    "\n",
    "training_data = pd.read_csv(\"asset/Intent-Data.csv\")"
   ]
  },
  {
   "cell_type": "code",
   "execution_count": 31,
   "metadata": {},
   "outputs": [],
   "source": [
    "tag = set(training_data.Tag.fillna(0))\n",
    "tag.remove(0)\n",
    "tag = list(tag)\n"
   ]
  },
  {
   "cell_type": "code",
   "execution_count": 33,
   "metadata": {},
   "outputs": [],
   "source": [
    "patterns_temp = list(training_data.Question.fillna(0))\n",
    "patterns_temp.append(0)\n",
    "temp = []\n",
    "patterns = []\n",
    "for sentence in patterns_temp:\n",
    "    if sentence == 0 :\n",
    "        patterns.append(temp)\n",
    "        temp = []\n",
    "    else:\n",
    "        temp.append(sentence)\n",
    "\n"
   ]
  },
  {
   "cell_type": "code",
   "execution_count": 44,
   "metadata": {},
   "outputs": [],
   "source": [
    "intent_data = {}\n",
    "temp = []\n",
    "for intent_tag, pattern in zip(tag,patterns):\n",
    "    temp.append({\n",
    "        \"patterns\":pattern,\n",
    "        \"tag\":intent_tag\n",
    "    })\n",
    "intent_data['intents'] = temp"
   ]
  },
  {
   "cell_type": "code",
   "execution_count": 48,
   "metadata": {},
   "outputs": [],
   "source": [
    "import json\n",
    "\n",
    "intent_json_data = json.dumps(intent_data,indent=4)\n",
    "with open(\"asset/swift.json\",\"w\") as file:\n",
    "    file.write(intent_json_data)"
   ]
  },
  {
   "cell_type": "code",
   "execution_count": null,
   "metadata": {},
   "outputs": [],
   "source": []
  }
 ],
 "metadata": {
  "kernelspec": {
   "display_name": "Python 3.10.4 ('env': venv)",
   "language": "python",
   "name": "python3"
  },
  "language_info": {
   "codemirror_mode": {
    "name": "ipython",
    "version": 3
   },
   "file_extension": ".py",
   "mimetype": "text/x-python",
   "name": "python",
   "nbconvert_exporter": "python",
   "pygments_lexer": "ipython3",
   "version": "3.10.4"
  },
  "orig_nbformat": 4,
  "vscode": {
   "interpreter": {
    "hash": "e426eb422ee72ecab5ec3ed5d296a61d193577bd5d7289265f51c8d958dc6079"
   }
  }
 },
 "nbformat": 4,
 "nbformat_minor": 2
}
